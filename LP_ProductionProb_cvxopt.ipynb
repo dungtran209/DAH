{
 "cells": [
  {
   "cell_type": "code",
   "execution_count": 1,
   "metadata": {},
   "outputs": [],
   "source": [
    "# Import package\n",
    "\n",
    "from cvxopt import solvers, matrix, printing"
   ]
  },
  {
   "cell_type": "code",
   "execution_count": 2,
   "metadata": {},
   "outputs": [],
   "source": [
    "# Declare vector c, matrix G and vector h\n",
    "\n",
    "c = matrix([-26.5, -15.5, -40., -29.])\n",
    "\n",
    "G = matrix([[ 0.1,  0.2,  0.2, -1.,  0.,  0.,  0.],\n",
    "            [ 0.1,  0.3,   0.,  0., -1.,  0.,  0.],\n",
    "            [ 0.1,   0.,  0.5,  0.,  0., -1.,  0.],\n",
    "            [ 0.1,  0.4,  0.1,  0.,  0.,  0., -1.]])\n",
    "\n",
    "h = matrix([50., 100., 90., 0., 0., 0., 0.])"
   ]
  },
  {
   "cell_type": "code",
   "execution_count": 3,
   "metadata": {},
   "outputs": [],
   "source": [
    "# Solve the model\n",
    "\n",
    "solvers.options['show_progress'] = False   # Hide solving progress\n",
    "\n",
    "solution = solvers.lp(c, G, h)"
   ]
  },
  {
   "cell_type": "code",
   "execution_count": 4,
   "metadata": {},
   "outputs": [
    {
     "name": "stdout",
     "output_type": "stream",
     "text": [
      "Optimal solution:\n",
      "[ 62.44]\n",
      "[  0.00]\n",
      "[111.27]\n",
      "[218.78]\n",
      "\n"
     ]
    }
   ],
   "source": [
    "# Format the displayed result as float 2 decimal places\n",
    "\n",
    "printing.options['dformat'] = '%.2f' \n",
    "\n",
    "# Print optimal solution x\n",
    "\n",
    "print('Optimal solution:')\n",
    "print(solution['x'])"
   ]
  },
  {
   "cell_type": "code",
   "execution_count": 5,
   "metadata": {},
   "outputs": [
    {
     "name": "stdout",
     "output_type": "stream",
     "text": [
      "Optimal cost:\n",
      "12450.0\n"
     ]
    }
   ],
   "source": [
    "# Display optimal objective function value (optimal/maximum profit)\n",
    "\n",
    "print('Optimal profit:')\n",
    "print(round(-solution['primal objective'],2))    # Display2 decimal places"
   ]
  },
  {
   "cell_type": "code",
   "execution_count": null,
   "metadata": {},
   "outputs": [],
   "source": []
  }
 ],
 "metadata": {
  "kernelspec": {
   "display_name": "Python 3",
   "language": "python",
   "name": "python3"
  },
  "language_info": {
   "codemirror_mode": {
    "name": "ipython",
    "version": 3
   },
   "file_extension": ".py",
   "mimetype": "text/x-python",
   "name": "python",
   "nbconvert_exporter": "python",
   "pygments_lexer": "ipython3",
   "version": "3.8.5"
  }
 },
 "nbformat": 4,
 "nbformat_minor": 2
}
