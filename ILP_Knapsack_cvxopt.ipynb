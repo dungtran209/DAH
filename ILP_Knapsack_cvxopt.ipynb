{
 "cells": [
  {
   "cell_type": "code",
   "execution_count": 1,
   "metadata": {},
   "outputs": [],
   "source": [
    "# Import package\n",
    "\n",
    "from cvxopt import glpk, matrix, printing"
   ]
  },
  {
   "cell_type": "code",
   "execution_count": 2,
   "metadata": {},
   "outputs": [],
   "source": [
    "# Declare c, G, h, I\n",
    "\n",
    "c = matrix([-10., -5., -15., -7., -6., -18., -3.])\n",
    "\n",
    "G = matrix([[2.], [3.], [5.], [7.], [1.], [4.], [1.]])\n",
    "\n",
    "h = matrix([15.])\n",
    "\n",
    "B = set(range(7))"
   ]
  },
  {
   "cell_type": "code",
   "execution_count": 3,
   "metadata": {},
   "outputs": [],
   "source": [
    "# Solve the model\n",
    "\n",
    "(status, x) = glpk.ilp(c, G, h, B=B)"
   ]
  },
  {
   "cell_type": "code",
   "execution_count": 4,
   "metadata": {},
   "outputs": [
    {
     "name": "stdout",
     "output_type": "stream",
     "text": [
      "optimal\n"
     ]
    }
   ],
   "source": [
    "# Check the status\n",
    "\n",
    "print(status)"
   ]
  },
  {
   "cell_type": "code",
   "execution_count": 5,
   "metadata": {},
   "outputs": [
    {
     "name": "stdout",
     "output_type": "stream",
     "text": [
      "Optimal solution:\n",
      "[1]\n",
      "[1]\n",
      "[1]\n",
      "[0]\n",
      "[1]\n",
      "[1]\n",
      "[0]\n",
      "\n"
     ]
    }
   ],
   "source": [
    "# Format the displayed result as float 2 decimal places\n",
    "\n",
    "printing.options['dformat'] = '%.0f' \n",
    "\n",
    "# Print optimal solution x\n",
    "\n",
    "print('Optimal solution:')\n",
    "print(x)"
   ]
  },
  {
   "cell_type": "code",
   "execution_count": 6,
   "metadata": {},
   "outputs": [
    {
     "name": "stdout",
     "output_type": "stream",
     "text": [
      "Optimal value:\n",
      "[54]\n",
      "\n"
     ]
    }
   ],
   "source": [
    "# Print optimal objective value\n",
    "\n",
    "print('Optimal value:')\n",
    "print(-c.T*x)"
   ]
  },
  {
   "cell_type": "code",
   "execution_count": null,
   "metadata": {},
   "outputs": [],
   "source": []
  }
 ],
 "metadata": {
  "kernelspec": {
   "display_name": "Python 3",
   "language": "python",
   "name": "python3"
  },
  "language_info": {
   "codemirror_mode": {
    "name": "ipython",
    "version": 3
   },
   "file_extension": ".py",
   "mimetype": "text/x-python",
   "name": "python",
   "nbconvert_exporter": "python",
   "pygments_lexer": "ipython3",
   "version": "3.8.5"
  }
 },
 "nbformat": 4,
 "nbformat_minor": 2
}
