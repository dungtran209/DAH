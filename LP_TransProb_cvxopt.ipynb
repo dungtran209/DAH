{
 "cells": [
  {
   "cell_type": "code",
   "execution_count": 1,
   "metadata": {},
   "outputs": [],
   "source": [
    "# Import package\n",
    "\n",
    "from cvxopt import solvers, matrix, printing"
   ]
  },
  {
   "cell_type": "code",
   "execution_count": 2,
   "metadata": {},
   "outputs": [],
   "source": [
    "# Declare vector c, matrix G and vector h\n",
    "\n",
    "c = matrix([2., 3., 5., 3., 1., 4.])\n",
    "\n",
    "\n",
    "G = matrix([[ 1.,  0., -1.,  0.,  0., -1.,  0.,  0.,  0.,  0.,  0.],\n",
    "            [ 1.,  0.,  0., -1.,  0.,  0., -1.,  0.,  0.,  0.,  0.],\n",
    "            [ 1.,  0.,  0.,  0., -1.,  0.,  0., -1.,  0.,  0.,  0.],\n",
    "            [ 0.,  1., -1.,  0.,  0.,  0.,  0.,  0., -1.,  0.,  0.],\n",
    "            [ 0.,  1.,  0., -1.,  0.,  0.,  0.,  0.,  0., -1.,  0.],\n",
    "            [ 0.,  1.,  0.,  0., -1.,  0.,  0.,  0.,  0.,  0., -1.]])\n",
    "\n",
    "h = matrix([2000., 1500., -1000., -800., -1500., 0., 0., 0., 0., 0., 0.])"
   ]
  },
  {
   "cell_type": "code",
   "execution_count": 3,
   "metadata": {},
   "outputs": [
    {
     "name": "stdout",
     "output_type": "stream",
     "text": [
      "     pcost       dcost       gap    pres   dres   k/t\n",
      " 0:  9.3083e+03  8.7583e+03  2e+04  3e-01  8e-01  1e+00\n",
      " 1:  1.0020e+04  9.9784e+03  2e+03  5e-02  1e-01  5e+01\n",
      " 2:  9.6501e+03  9.6486e+03  2e+02  4e-03  1e-02  6e+00\n",
      " 3:  9.6007e+03  9.6007e+03  2e+00  6e-05  2e-04  9e-02\n",
      " 4:  9.6000e+03  9.6000e+03  2e-02  6e-07  2e-06  9e-04\n",
      " 5:  9.6000e+03  9.6000e+03  2e-04  6e-09  2e-08  9e-06\n",
      "Optimal solution found.\n"
     ]
    }
   ],
   "source": [
    "# Solve the model\n",
    "\n",
    "#solvers.options['show_progress'] = False   # Hide solving progress\n",
    "\n",
    "solution = solvers.lp(c, G, h)"
   ]
  },
  {
   "cell_type": "code",
   "execution_count": 4,
   "metadata": {},
   "outputs": [
    {
     "name": "stdout",
     "output_type": "stream",
     "text": [
      "Optimal solution:\n",
      "[1000.00]\n",
      "[   0.00]\n",
      "[ 800.00]\n",
      "[   0.00]\n",
      "[ 800.00]\n",
      "[ 700.00]\n",
      "\n"
     ]
    }
   ],
   "source": [
    "# Format the displayed result as float 2 decimal places\n",
    "\n",
    "printing.options['dformat'] = '%.2f' \n",
    "\n",
    "# Print optimal solution x\n",
    "\n",
    "print('Optimal solution:')\n",
    "print(solution['x'])"
   ]
  },
  {
   "cell_type": "code",
   "execution_count": 5,
   "metadata": {},
   "outputs": [
    {
     "name": "stdout",
     "output_type": "stream",
     "text": [
      "Optimal cost:\n",
      "9600.00006766054\n"
     ]
    }
   ],
   "source": [
    "# Display optimal objective function value (optimal/minimum cost)\n",
    "\n",
    "print('Optimal cost:')\n",
    "print(solution['primal objective'])"
   ]
  },
  {
   "cell_type": "code",
   "execution_count": null,
   "metadata": {},
   "outputs": [],
   "source": []
  }
 ],
 "metadata": {
  "kernelspec": {
   "display_name": "Python 3",
   "language": "python",
   "name": "python3"
  },
  "language_info": {
   "codemirror_mode": {
    "name": "ipython",
    "version": 3
   },
   "file_extension": ".py",
   "mimetype": "text/x-python",
   "name": "python",
   "nbconvert_exporter": "python",
   "pygments_lexer": "ipython3",
   "version": "3.8.5"
  }
 },
 "nbformat": 4,
 "nbformat_minor": 2
}
