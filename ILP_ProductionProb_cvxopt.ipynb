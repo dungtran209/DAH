{
 "cells": [
  {
   "cell_type": "code",
   "execution_count": 1,
   "metadata": {},
   "outputs": [],
   "source": [
    "# Import package\n",
    "\n",
    "from cvxopt import glpk, matrix, printing"
   ]
  },
  {
   "cell_type": "code",
   "execution_count": 2,
   "metadata": {},
   "outputs": [],
   "source": [
    "# Declare vector c, matrix G and vector h\n",
    "\n",
    "c = matrix([-26.5, -15.5, -40., -29.])\n",
    "\n",
    "G = matrix([[ 0.1,  0.2,  0.2, -1.,  0.,  0.,  0.],\n",
    "            [ 0.1,  0.3,   0.,  0., -1.,  0.,  0.],\n",
    "            [ 0.1,   0.,  0.5,  0.,  0., -1.,  0.],\n",
    "            [ 0.1,  0.4,  0.1,  0.,  0.,  0., -1.]])\n",
    "\n",
    "h = matrix([50., 100., 90., 0., 0., 0., 0.])"
   ]
  },
  {
   "cell_type": "code",
   "execution_count": 3,
   "metadata": {},
   "outputs": [],
   "source": [
    "# Declare set I - set with indices of integer variables\n",
    "\n",
    "#I = set([0, 1, 2, 3])\n",
    "\n",
    "I = set(range(4))"
   ]
  },
  {
   "cell_type": "code",
   "execution_count": 4,
   "metadata": {},
   "outputs": [],
   "source": [
    "# Solve the model\n",
    "\n",
    "glpk.options['show_progress'] = False   # Hide solving progress\n",
    "\n",
    "#solution = glpk.ilp(c, G, h, I=I)\n",
    "(status, x) = glpk.ilp(c, G, h, I=I)"
   ]
  },
  {
   "cell_type": "code",
   "execution_count": 5,
   "metadata": {},
   "outputs": [
    {
     "name": "stdout",
     "output_type": "stream",
     "text": [
      "Optimal solution:\n",
      "[  0.00]\n",
      "[  0.00]\n",
      "[130.00]\n",
      "[250.00]\n",
      "\n"
     ]
    }
   ],
   "source": [
    "# Format the displayed result as float 2 decimal places\n",
    "\n",
    "printing.options['dformat'] = '%.2f' \n",
    "\n",
    "# Print optimal solution x\n",
    "\n",
    "print('Optimal solution:')\n",
    "print(x)"
   ]
  },
  {
   "cell_type": "code",
   "execution_count": 6,
   "metadata": {},
   "outputs": [
    {
     "name": "stdout",
     "output_type": "stream",
     "text": [
      "Optimal cost:\n",
      "[12450.00]\n",
      "\n"
     ]
    }
   ],
   "source": [
    "# Display optimal objective function value (optimal/maximum profit)\n",
    "\n",
    "print('Optimal cost:')\n",
    "print(-c.T*x)    # Display2 decimal places"
   ]
  },
  {
   "cell_type": "code",
   "execution_count": null,
   "metadata": {},
   "outputs": [],
   "source": []
  }
 ],
 "metadata": {
  "kernelspec": {
   "display_name": "Python 3",
   "language": "python",
   "name": "python3"
  },
  "language_info": {
   "codemirror_mode": {
    "name": "ipython",
    "version": 3
   },
   "file_extension": ".py",
   "mimetype": "text/x-python",
   "name": "python",
   "nbconvert_exporter": "python",
   "pygments_lexer": "ipython3",
   "version": "3.8.5"
  }
 },
 "nbformat": 4,
 "nbformat_minor": 2
}
